{
 "cells": [
  {
   "cell_type": "code",
   "execution_count": 1,
   "id": "9ee14e7a",
   "metadata": {},
   "outputs": [],
   "source": [
    "import pandas as pd\n",
    "import torch\n",
    "import torch.nn as nn\n",
    "import torch.optim as optim\n",
    "from torch.utils.data import DataLoader, TensorDataset\n",
    "from sklearn.model_selection import train_test_split\n",
    "import matplotlib.pyplot as plt\n",
    "import numpy as np"
   ]
  },
  {
   "cell_type": "code",
   "execution_count": 2,
   "id": "c010dffb",
   "metadata": {},
   "outputs": [],
   "source": [
    "data = pd.read_csv(\"data.csv\")"
   ]
  },
  {
   "cell_type": "code",
   "execution_count": 3,
   "id": "95a1dd74",
   "metadata": {},
   "outputs": [
    {
     "data": {
      "text/html": [
       "<div>\n",
       "<style scoped>\n",
       "    .dataframe tbody tr th:only-of-type {\n",
       "        vertical-align: middle;\n",
       "    }\n",
       "\n",
       "    .dataframe tbody tr th {\n",
       "        vertical-align: top;\n",
       "    }\n",
       "\n",
       "    .dataframe thead th {\n",
       "        text-align: right;\n",
       "    }\n",
       "</style>\n",
       "<table border=\"1\" class=\"dataframe\">\n",
       "  <thead>\n",
       "    <tr style=\"text-align: right;\">\n",
       "      <th></th>\n",
       "      <th>Unnamed: 0</th>\n",
       "      <th>temp</th>\n",
       "      <th>humidity</th>\n",
       "    </tr>\n",
       "  </thead>\n",
       "  <tbody>\n",
       "    <tr>\n",
       "      <th>0</th>\n",
       "      <td>0</td>\n",
       "      <td>23.91</td>\n",
       "      <td>42.80</td>\n",
       "    </tr>\n",
       "    <tr>\n",
       "      <th>1</th>\n",
       "      <td>1</td>\n",
       "      <td>25.91</td>\n",
       "      <td>42.08</td>\n",
       "    </tr>\n",
       "    <tr>\n",
       "      <th>2</th>\n",
       "      <td>2</td>\n",
       "      <td>25.76</td>\n",
       "      <td>44.75</td>\n",
       "    </tr>\n",
       "    <tr>\n",
       "      <th>3</th>\n",
       "      <td>3</td>\n",
       "      <td>25.15</td>\n",
       "      <td>45.84</td>\n",
       "    </tr>\n",
       "    <tr>\n",
       "      <th>4</th>\n",
       "      <td>4</td>\n",
       "      <td>26.10</td>\n",
       "      <td>41.12</td>\n",
       "    </tr>\n",
       "  </tbody>\n",
       "</table>\n",
       "</div>"
      ],
      "text/plain": [
       "   Unnamed: 0   temp  humidity\n",
       "0           0  23.91     42.80\n",
       "1           1  25.91     42.08\n",
       "2           2  25.76     44.75\n",
       "3           3  25.15     45.84\n",
       "4           4  26.10     41.12"
      ]
     },
     "execution_count": 3,
     "metadata": {},
     "output_type": "execute_result"
    }
   ],
   "source": [
    "data.head()"
   ]
  },
  {
   "cell_type": "code",
   "execution_count": 4,
   "id": "fa1c43bc",
   "metadata": {},
   "outputs": [],
   "source": [
    "data_set = data.values[:,1:3]"
   ]
  },
  {
   "cell_type": "code",
   "execution_count": 5,
   "id": "70008fa9",
   "metadata": {},
   "outputs": [
    {
     "data": {
      "text/plain": [
       "(10000, 2)"
      ]
     },
     "execution_count": 5,
     "metadata": {},
     "output_type": "execute_result"
    }
   ],
   "source": [
    "data_set.shape"
   ]
  },
  {
   "cell_type": "code",
   "execution_count": 6,
   "id": "03b79a04",
   "metadata": {},
   "outputs": [
    {
     "data": {
      "text/plain": [
       "array([[23.91, 42.8 ],\n",
       "       [25.91, 42.08],\n",
       "       [25.76, 44.75],\n",
       "       ...,\n",
       "       [10.83, 30.86],\n",
       "       [10.7 , 32.14],\n",
       "       [11.44, 34.02]])"
      ]
     },
     "execution_count": 6,
     "metadata": {},
     "output_type": "execute_result"
    }
   ],
   "source": [
    "data_set"
   ]
  },
  {
   "cell_type": "code",
   "execution_count": 7,
   "id": "056eee13",
   "metadata": {},
   "outputs": [],
   "source": [
    "temp = torch.empty(len(data_set[:,0])-3,4)\n",
    "for i in range(len(data_set[:,0])-3):\n",
    "    temp[i,0] = torch.tensor(data_set[i,0])\n",
    "    temp[i,1] = torch.tensor(data_set[i+1,0])\n",
    "    temp[i,2] = torch.tensor(data_set[i+2,0])\n",
    "    temp[i,3] = torch.tensor(data_set[i+3,0])"
   ]
  },
  {
   "cell_type": "code",
   "execution_count": 8,
   "id": "05c83ac2",
   "metadata": {},
   "outputs": [],
   "source": [
    "temp_x = temp[:,0:3]\n",
    "temp_y = temp[:,-1]"
   ]
  },
  {
   "cell_type": "code",
   "execution_count": 9,
   "id": "c8ceeb9d",
   "metadata": {},
   "outputs": [],
   "source": [
    "temp_x_train, temp_x_test, temp_y_train, temp_y_test = train_test_split(temp_x, temp_y,  \n",
    "                                                                        test_size = 0.1, shuffle = False)"
   ]
  },
  {
   "cell_type": "code",
   "execution_count": 10,
   "id": "2a419d46",
   "metadata": {},
   "outputs": [
    {
     "name": "stdout",
     "output_type": "stream",
     "text": [
      "torch.Size([8997, 3])\n",
      "torch.Size([8997])\n",
      "torch.Size([1000, 3])\n",
      "torch.Size([1000])\n"
     ]
    }
   ],
   "source": [
    "print(temp_x_train.shape)\n",
    "print(temp_y_train.shape)\n",
    "print(temp_x_test.shape)\n",
    "print(temp_y_test.shape)"
   ]
  },
  {
   "cell_type": "code",
   "execution_count": 11,
   "id": "dbfa4ff7",
   "metadata": {},
   "outputs": [
    {
     "name": "stdout",
     "output_type": "stream",
     "text": [
      "tensor([[23.9100, 25.9100, 25.7600],\n",
      "        [25.9100, 25.7600, 25.1500],\n",
      "        [25.7600, 25.1500, 26.1000],\n",
      "        [25.1500, 26.1000, 28.5500],\n",
      "        [26.1000, 28.5500, 27.2100]])\n",
      "tensor([25.1500, 26.1000, 28.5500, 27.2100, 26.7500])\n",
      "tensor([47.6000, 45.9800, 48.3600])\n",
      "tensor(48.8200)\n",
      "<class 'torch.Tensor'>\n"
     ]
    }
   ],
   "source": [
    "print(temp_x_train[0:5,:])\n",
    "print(temp_y_train[0:5])\n",
    "print(temp_x_test[2,:])\n",
    "print(temp_y_test[2])\n",
    "print(type(temp_y_test[2]))"
   ]
  },
  {
   "cell_type": "code",
   "execution_count": 12,
   "id": "1998e21d",
   "metadata": {},
   "outputs": [],
   "source": [
    "class DNN(nn.Module):\n",
    "    def __init__(self):\n",
    "        super(DNN, self).__init__()\n",
    "        self.fc1 = nn.Linear(3, 32)\n",
    "        self.fc2 = nn.Linear(32, 1)\n",
    "        self.relu = nn.ReLU()\n",
    "        self.dropout = nn.Dropout(p=0.2)\n",
    "        \n",
    "    def forward(self, x):\n",
    "        x = self.fc1(x)\n",
    "        x = self.relu(x)\n",
    "        x = self.dropout(x)\n",
    "        x = self.fc2(x)\n",
    "        return x"
   ]
  },
  {
   "cell_type": "code",
   "execution_count": 13,
   "id": "87b58a50",
   "metadata": {},
   "outputs": [],
   "source": [
    "# 定义训练函数\n",
    "def train(model, device, train_loader, optimizer, criterion):\n",
    "    model.train()\n",
    "    for data, target in train_loader:\n",
    "        data, target = data.to(device), target.to(device)\n",
    "        optimizer.zero_grad()\n",
    "        output = model(data)\n",
    "        loss = criterion(output, target)\n",
    "        loss.backward()\n",
    "        optimizer.step()\n",
    "\n",
    "# 定义测试函数\n",
    "def test(model, device, test_loader, criterion):\n",
    "    model.eval()\n",
    "    test_loss = 0\n",
    "    with torch.no_grad():\n",
    "        for data, target in test_loader:\n",
    "            data, target = data.to(device), target.to(device)\n",
    "            output = model(data)\n",
    "            test_loss += criterion(output, target).item()\n",
    "    test_loss /= len(test_loader.dataset)\n",
    "    return test_loss"
   ]
  },
  {
   "cell_type": "code",
   "execution_count": 14,
   "id": "f2ead18b",
   "metadata": {},
   "outputs": [
    {
     "name": "stdout",
     "output_type": "stream",
     "text": [
      "Epoch 1, Test Loss: 0.2852\n",
      "best model saved\n"
     ]
    },
    {
     "name": "stderr",
     "output_type": "stream",
     "text": [
      "/Users/jiaxingzhang/env/lib/python3.9/site-packages/torch/nn/modules/loss.py:536: UserWarning: Using a target size (torch.Size([32])) that is different to the input size (torch.Size([32, 1])). This will likely lead to incorrect results due to broadcasting. Please ensure they have the same size.\n",
      "  return F.mse_loss(input, target, reduction=self.reduction)\n",
      "/Users/jiaxingzhang/env/lib/python3.9/site-packages/torch/nn/modules/loss.py:536: UserWarning: Using a target size (torch.Size([5])) that is different to the input size (torch.Size([5, 1])). This will likely lead to incorrect results due to broadcasting. Please ensure they have the same size.\n",
      "  return F.mse_loss(input, target, reduction=self.reduction)\n",
      "/Users/jiaxingzhang/env/lib/python3.9/site-packages/torch/nn/modules/loss.py:536: UserWarning: Using a target size (torch.Size([8])) that is different to the input size (torch.Size([8, 1])). This will likely lead to incorrect results due to broadcasting. Please ensure they have the same size.\n",
      "  return F.mse_loss(input, target, reduction=self.reduction)\n"
     ]
    },
    {
     "name": "stdout",
     "output_type": "stream",
     "text": [
      "Epoch 2, Test Loss: 0.7821\n",
      "Epoch 3, Test Loss: 0.2019\n",
      "best model saved\n",
      "Epoch 4, Test Loss: 1.4391\n",
      "Epoch 5, Test Loss: 2.1698\n",
      "Epoch 6, Test Loss: 0.2683\n",
      "Epoch 7, Test Loss: 0.8337\n",
      "Epoch 8, Test Loss: 2.3415\n",
      "Epoch 9, Test Loss: 2.0256\n",
      "Epoch 10, Test Loss: 0.9758\n",
      "Epoch 11, Test Loss: 0.3058\n",
      "Epoch 12, Test Loss: 0.2933\n",
      "Epoch 13, Test Loss: 0.2234\n",
      "Epoch 14, Test Loss: 0.2148\n",
      "Epoch 15, Test Loss: 0.2267\n",
      "Epoch 16, Test Loss: 0.2321\n",
      "Epoch 17, Test Loss: 0.2078\n",
      "Epoch 18, Test Loss: 0.2088\n",
      "Epoch 19, Test Loss: 0.2644\n",
      "Epoch 20, Test Loss: 0.2283\n",
      "Epoch 21, Test Loss: 0.2831\n",
      "Epoch 22, Test Loss: 0.2806\n",
      "Epoch 23, Test Loss: 0.4414\n",
      "Epoch 24, Test Loss: 0.4336\n",
      "Epoch 25, Test Loss: 0.2669\n",
      "Epoch 26, Test Loss: 0.3380\n",
      "Epoch 27, Test Loss: 0.5098\n",
      "Epoch 28, Test Loss: 0.3106\n",
      "Epoch 29, Test Loss: 0.2269\n",
      "Epoch 30, Test Loss: 0.3799\n",
      "Epoch 31, Test Loss: 0.4270\n",
      "Epoch 32, Test Loss: 0.2240\n",
      "Epoch 33, Test Loss: 0.2471\n",
      "Epoch 34, Test Loss: 0.5095\n",
      "Epoch 35, Test Loss: 0.4985\n",
      "Epoch 36, Test Loss: 0.3070\n",
      "Epoch 37, Test Loss: 0.2086\n",
      "Epoch 38, Test Loss: 0.3815\n",
      "Epoch 39, Test Loss: 0.4234\n",
      "Epoch 40, Test Loss: 0.3984\n",
      "Epoch 41, Test Loss: 0.5504\n",
      "Epoch 42, Test Loss: 0.6942\n",
      "Epoch 43, Test Loss: 0.5645\n",
      "Epoch 44, Test Loss: 0.2656\n",
      "Epoch 45, Test Loss: 0.2320\n",
      "Epoch 46, Test Loss: 0.3229\n",
      "Epoch 47, Test Loss: 0.4228\n",
      "Epoch 48, Test Loss: 0.3949\n",
      "Epoch 49, Test Loss: 0.3102\n",
      "Epoch 50, Test Loss: 0.3124\n"
     ]
    }
   ],
   "source": [
    "if __name__ == '__main__':\n",
    "    # 准备数据\n",
    "    x_train = temp_x_train\n",
    "    y_train = temp_y_train\n",
    "    train_data = TensorDataset(x_train, y_train)\n",
    "    train_loader = DataLoader(train_data, batch_size=32, shuffle=False)\n",
    "    \n",
    "    x_test = temp_x_test\n",
    "    y_test = temp_y_test\n",
    "    test_data = TensorDataset(x_test, y_test)\n",
    "    test_loader = DataLoader(test_data, batch_size=32, shuffle=False)\n",
    "    \n",
    "    # 定义模型和优化器\n",
    "    device = torch.device('cuda' if torch.cuda.is_available() else 'cpu')\n",
    "    model = DNN().to(device)\n",
    "    optimizer = optim.Adam(model.parameters(), lr=0.01)\n",
    "    criterion = nn.MSELoss()\n",
    "    \n",
    "    # 训练模型\n",
    "    epochs = 50\n",
    "    best_loss = 1000\n",
    "    for epoch in range(epochs):\n",
    "        train(model, device, train_loader, optimizer, criterion)\n",
    "        test_loss = test(model, device, test_loader, criterion)\n",
    "        print('Epoch {}, Test Loss: {:.4f}'.format(epoch+1, test_loss))\n",
    "        if best_loss > test_loss:\n",
    "            best_loss = test_loss\n",
    "            torch.save(model,\"DNN.pt\")\n",
    "            print('best model saved')\n",
    "\n"
   ]
  },
  {
   "cell_type": "code",
   "execution_count": 15,
   "id": "37efbef7",
   "metadata": {},
   "outputs": [
    {
     "data": {
      "text/plain": [
       "torch.Size([100, 3])"
      ]
     },
     "execution_count": 15,
     "metadata": {},
     "output_type": "execute_result"
    }
   ],
   "source": [
    "x = np.arange(0,100)\n",
    "test = temp_x_test[0:100,:]\n",
    "test.shape"
   ]
  },
  {
   "cell_type": "code",
   "execution_count": 16,
   "id": "b5b3960f",
   "metadata": {},
   "outputs": [],
   "source": [
    "result = np.zeros([100])\n",
    "predictor = torch.load(\"DNN.pt\")\n",
    "for i in range(len(test)):\n",
    "    result[i] = predictor(test[i])"
   ]
  },
  {
   "cell_type": "code",
   "execution_count": 17,
   "id": "861381fc",
   "metadata": {},
   "outputs": [
    {
     "data": {
      "text/plain": [
       "numpy.ndarray"
      ]
     },
     "execution_count": 17,
     "metadata": {},
     "output_type": "execute_result"
    }
   ],
   "source": [
    "type(result)"
   ]
  },
  {
   "cell_type": "code",
   "execution_count": 18,
   "id": "a2a07f67",
   "metadata": {},
   "outputs": [
    {
     "data": {
      "text/plain": [
       "[<matplotlib.lines.Line2D at 0x28e4d0100>]"
      ]
     },
     "execution_count": 18,
     "metadata": {},
     "output_type": "execute_result"
    },
    {
     "data": {
      "image/png": "[encoded data removed]",
      "text/plain": [
       "<Figure size 640x480 with 1 Axes>"
      ]
     },
     "metadata": {},
     "output_type": "display_data"
    }
   ],
   "source": [
    "plt.plot(x,temp_y_test[0:100])\n",
    "plt.plot(x,result)"
   ]
  },
  {
   "cell_type": "code",
   "execution_count": 19,
   "id": "907a7441",
   "metadata": {},
   "outputs": [
    {
     "data": {
      "text/plain": [
       "[<matplotlib.lines.Line2D at 0x28e589fa0>]"
      ]
     },
     "execution_count": 19,
     "metadata": {},
     "output_type": "execute_result"
    },
    {
     "data": {
      "image/png": "[encoded data removed]",
      "text/plain": [
       "<Figure size 640x480 with 1 Axes>"
      ]
     },
     "metadata": {},
     "output_type": "display_data"
    }
   ],
   "source": [
    "train = temp_x_train[0:100,:]\n",
    "result_train = np.zeros([100])\n",
    "for i in range(len(train)):\n",
    "    result_train[i] = predictor(train[i])\n",
    "plt.plot(x,temp_y_train[0:100])\n",
    "plt.plot(x,result_train)"
   ]
  },
  {
   "cell_type": "code",
   "execution_count": 20,
   "id": "8280c532",
   "metadata": {},
   "outputs": [
    {
     "name": "stdout",
     "output_type": "stream",
     "text": [
      "tensor([-1.3153,  1.4324,  1.8450,  0.2007, -1.0414, -1.5923, -0.0262, -1.2736,\n",
      "        -0.1415,  1.4485], dtype=torch.float64)\n"
     ]
    }
   ],
   "source": [
    "difference = temp_y_test[0:100] - result\n",
    "print(difference[0:10])"
   ]
  },
  {
   "cell_type": "code",
   "execution_count": null,
   "id": "de47781d",
   "metadata": {},
   "outputs": [],
   "source": []
  }
 ],
 "metadata": {
  "kernelspec": {
   "display_name": "Python 3 (ipykernel)",
   "language": "python",
   "name": "python3"
  },
  "language_info": {
   "codemirror_mode": {
    "name": "ipython",
    "version": 3
   },
   "file_extension": ".py",
   "mimetype": "text/x-python",
   "name": "python",
   "nbconvert_exporter": "python",
   "pygments_lexer": "ipython3",
   "version": "3.9.6"
  }
 },
 "nbformat": 4,
 "nbformat_minor": 5
}
