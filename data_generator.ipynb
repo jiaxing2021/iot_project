{
 "cells": [
  {
   "cell_type": "code",
   "execution_count": 20,
   "id": "f8df27cc",
   "metadata": {},
   "outputs": [],
   "source": [
    "import math\n",
    "import random\n",
    "import numpy as np\n",
    "import pandas as pd"
   ]
  },
  {
   "cell_type": "code",
   "execution_count": 21,
   "id": "574ddf38",
   "metadata": {},
   "outputs": [],
   "source": [
    "temp = []\n",
    "for x in range(10000):\n",
    "    e = random.gauss(0,1)\n",
    "    #print(e)\n",
    "    y = round((math.sin(x/100))*25+25+e,2)\n",
    "    temp.append(y)"
   ]
  },
  {
   "cell_type": "code",
   "execution_count": 22,
   "id": "104aec4d",
   "metadata": {},
   "outputs": [],
   "source": [
    "raw_humidity = []\n",
    "for x in range(10000):\n",
    "    e = random.gauss(0,1)\n",
    "    #print(e)\n",
    "    y = round((math.sin(x/100))*35+55+2*e,2)\n",
    "    raw_humidity.append(y)"
   ]
  },
  {
   "cell_type": "code",
   "execution_count": 23,
   "id": "32d0eafa",
   "metadata": {},
   "outputs": [],
   "source": [
    "data_humidity = np.zeros([10000,2])\n",
    "for i in range(len(data_humidity)):\n",
    "    data_humidity[i][0] = temp[i]\n",
    "    data_humidity[i][1] = raw_humidity[i]"
   ]
  },
  {
   "cell_type": "code",
   "execution_count": 24,
   "id": "acc8b2b0",
   "metadata": {},
   "outputs": [],
   "source": [
    "multiple = np.array([[-0.5],[1]])"
   ]
  },
  {
   "cell_type": "code",
   "execution_count": 25,
   "id": "96e6f6ef",
   "metadata": {},
   "outputs": [],
   "source": [
    "humidity_array = np.matmul(data_humidity, multiple)"
   ]
  },
  {
   "cell_type": "code",
   "execution_count": 26,
   "id": "2af67612",
   "metadata": {},
   "outputs": [],
   "source": [
    "humidity = []\n",
    "for i in humidity_array:\n",
    "    i = float(i)\n",
    "    humidity.append(round(i,2))"
   ]
  },
  {
   "cell_type": "code",
   "execution_count": 27,
   "id": "e5790eee",
   "metadata": {},
   "outputs": [
    {
     "data": {
      "text/plain": [
       "10000"
      ]
     },
     "execution_count": 27,
     "metadata": {},
     "output_type": "execute_result"
    }
   ],
   "source": [
    "len(humidity)"
   ]
  },
  {
   "cell_type": "code",
   "execution_count": 28,
   "id": "241d558a",
   "metadata": {},
   "outputs": [],
   "source": [
    "dataframe = pd.DataFrame({'temp':temp,'humidity':humidity})"
   ]
  },
  {
   "cell_type": "code",
   "execution_count": 29,
   "id": "a9b4093b",
   "metadata": {},
   "outputs": [],
   "source": [
    "dataframe.to_csv(\"data.csv\")"
   ]
  },
  {
   "cell_type": "code",
   "execution_count": null,
   "id": "4a90ab64",
   "metadata": {},
   "outputs": [],
   "source": []
  }
 ],
 "metadata": {
  "kernelspec": {
   "display_name": "Python 3 (ipykernel)",
   "language": "python",
   "name": "python3"
  },
  "language_info": {
   "codemirror_mode": {
    "name": "ipython",
    "version": 3
   },
   "file_extension": ".py",
   "mimetype": "text/x-python",
   "name": "python",
   "nbconvert_exporter": "python",
   "pygments_lexer": "ipython3",
   "version": "3.9.6"
  }
 },
 "nbformat": 4,
 "nbformat_minor": 5
}
