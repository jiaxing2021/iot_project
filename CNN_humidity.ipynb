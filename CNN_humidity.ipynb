{
 "cells": [
  {
   "cell_type": "code",
   "execution_count": 48,
   "id": "9ee14e7a",
   "metadata": {},
   "outputs": [],
   "source": [
    "import pandas as pd\n",
    "import torch\n",
    "import torch.nn as nn\n",
    "import torch.optim as optim\n",
    "from torch.utils.data import DataLoader, TensorDataset\n",
    "from sklearn.model_selection import train_test_split\n",
    "import matplotlib.pyplot as plt\n",
    "import numpy as np"
   ]
  },
  {
   "cell_type": "code",
   "execution_count": 49,
   "id": "c010dffb",
   "metadata": {},
   "outputs": [],
   "source": [
    "data = pd.read_csv(\"data.csv\")"
   ]
  },
  {
   "cell_type": "code",
   "execution_count": 50,
   "id": "95a1dd74",
   "metadata": {},
   "outputs": [
    {
     "data": {
      "text/html": [
       "<div>\n",
       "<style scoped>\n",
       "    .dataframe tbody tr th:only-of-type {\n",
       "        vertical-align: middle;\n",
       "    }\n",
       "\n",
       "    .dataframe tbody tr th {\n",
       "        vertical-align: top;\n",
       "    }\n",
       "\n",
       "    .dataframe thead th {\n",
       "        text-align: right;\n",
       "    }\n",
       "</style>\n",
       "<table border=\"1\" class=\"dataframe\">\n",
       "  <thead>\n",
       "    <tr style=\"text-align: right;\">\n",
       "      <th></th>\n",
       "      <th>Unnamed: 0</th>\n",
       "      <th>temp</th>\n",
       "      <th>humidity</th>\n",
       "    </tr>\n",
       "  </thead>\n",
       "  <tbody>\n",
       "    <tr>\n",
       "      <th>0</th>\n",
       "      <td>0</td>\n",
       "      <td>23.91</td>\n",
       "      <td>42.80</td>\n",
       "    </tr>\n",
       "    <tr>\n",
       "      <th>1</th>\n",
       "      <td>1</td>\n",
       "      <td>25.91</td>\n",
       "      <td>42.08</td>\n",
       "    </tr>\n",
       "    <tr>\n",
       "      <th>2</th>\n",
       "      <td>2</td>\n",
       "      <td>25.76</td>\n",
       "      <td>44.75</td>\n",
       "    </tr>\n",
       "    <tr>\n",
       "      <th>3</th>\n",
       "      <td>3</td>\n",
       "      <td>25.15</td>\n",
       "      <td>45.84</td>\n",
       "    </tr>\n",
       "    <tr>\n",
       "      <th>4</th>\n",
       "      <td>4</td>\n",
       "      <td>26.10</td>\n",
       "      <td>41.12</td>\n",
       "    </tr>\n",
       "  </tbody>\n",
       "</table>\n",
       "</div>"
      ],
      "text/plain": [
       "   Unnamed: 0   temp  humidity\n",
       "0           0  23.91     42.80\n",
       "1           1  25.91     42.08\n",
       "2           2  25.76     44.75\n",
       "3           3  25.15     45.84\n",
       "4           4  26.10     41.12"
      ]
     },
     "execution_count": 50,
     "metadata": {},
     "output_type": "execute_result"
    }
   ],
   "source": [
    "data.head()"
   ]
  },
  {
   "cell_type": "code",
   "execution_count": 51,
   "id": "fa1c43bc",
   "metadata": {},
   "outputs": [],
   "source": [
    "data_set = data.values[:,1:3]"
   ]
  },
  {
   "cell_type": "code",
   "execution_count": 52,
   "id": "70008fa9",
   "metadata": {},
   "outputs": [
    {
     "data": {
      "text/plain": [
       "(10000, 2)"
      ]
     },
     "execution_count": 52,
     "metadata": {},
     "output_type": "execute_result"
    }
   ],
   "source": [
    "data_set.shape"
   ]
  },
  {
   "cell_type": "code",
   "execution_count": 53,
   "id": "03b79a04",
   "metadata": {},
   "outputs": [
    {
     "data": {
      "text/plain": [
       "array([[23.91, 42.8 ],\n",
       "       [25.91, 42.08],\n",
       "       [25.76, 44.75],\n",
       "       ...,\n",
       "       [10.83, 30.86],\n",
       "       [10.7 , 32.14],\n",
       "       [11.44, 34.02]])"
      ]
     },
     "execution_count": 53,
     "metadata": {},
     "output_type": "execute_result"
    }
   ],
   "source": [
    "data_set"
   ]
  },
  {
   "cell_type": "code",
   "execution_count": 54,
   "id": "056eee13",
   "metadata": {},
   "outputs": [],
   "source": [
    "humidity_temp = torch.empty([data_set.shape[0],3,2,1])"
   ]
  },
  {
   "cell_type": "code",
   "execution_count": 55,
   "id": "13277244",
   "metadata": {},
   "outputs": [
    {
     "data": {
      "text/plain": [
       "torch.Size([10000, 3, 2, 1])"
      ]
     },
     "execution_count": 55,
     "metadata": {},
     "output_type": "execute_result"
    }
   ],
   "source": [
    "humidity_temp.shape"
   ]
  },
  {
   "cell_type": "code",
   "execution_count": 56,
   "id": "a9777444",
   "metadata": {},
   "outputs": [
    {
     "data": {
      "text/plain": [
       "torch.Size([10000, 1, 1])"
      ]
     },
     "execution_count": 56,
     "metadata": {},
     "output_type": "execute_result"
    }
   ],
   "source": [
    "humidity_label = torch.empty([len(data_set[:,0]),1,1])\n",
    "humidity_label.shape"
   ]
  },
  {
   "cell_type": "code",
   "execution_count": 57,
   "id": "03188f6d",
   "metadata": {},
   "outputs": [],
   "source": [
    "humidity_temp[:,0,0,0] = torch.tensor(data_set[:,0])\n",
    "humidity_temp[:,0,1,0] = torch.tensor(data_set[:,1])\n",
    "humidity_temp[0:-1,1,0,0] = torch.tensor(data_set[1:,0])\n",
    "humidity_temp[0:-1,1,1,0] = torch.tensor(data_set[1:,1])\n",
    "humidity_temp[0:-2,2,0,0] = torch.tensor(data_set[2:,0])\n",
    "humidity_temp[0:-2,2,1,0] = torch.tensor(data_set[2:,1])\n",
    "\n",
    "humidity_label = torch.tensor(data_set[:,1])"
   ]
  },
  {
   "cell_type": "code",
   "execution_count": 58,
   "id": "d81d7b35",
   "metadata": {},
   "outputs": [
    {
     "name": "stdout",
     "output_type": "stream",
     "text": [
      "torch.Size([10000, 3, 2, 1])\n",
      "torch.Size([10000])\n"
     ]
    }
   ],
   "source": [
    "print(humidity_temp.shape)\n",
    "print(humidity_label.shape)"
   ]
  },
  {
   "cell_type": "code",
   "execution_count": 59,
   "id": "db53b8c3",
   "metadata": {},
   "outputs": [
    {
     "name": "stdout",
     "output_type": "stream",
     "text": [
      "tensor([[[[23.9100],\n",
      "          [42.8000]],\n",
      "\n",
      "         [[25.9100],\n",
      "          [42.0800]],\n",
      "\n",
      "         [[25.7600],\n",
      "          [44.7500]]],\n",
      "\n",
      "\n",
      "        [[[25.9100],\n",
      "          [42.0800]],\n",
      "\n",
      "         [[25.7600],\n",
      "          [44.7500]],\n",
      "\n",
      "         [[25.1500],\n",
      "          [45.8400]]]])\n",
      "tensor([45.8400, 41.1200], dtype=torch.float64)\n"
     ]
    }
   ],
   "source": [
    "humidity_x = humidity_temp[0:-3,:,:]\n",
    "humidity_y = humidity_label[3:]\n",
    "print(humidity_x[0:2,:,:])\n",
    "print(humidity_y[0:2])"
   ]
  },
  {
   "cell_type": "code",
   "execution_count": 60,
   "id": "c8ceeb9d",
   "metadata": {},
   "outputs": [],
   "source": [
    "humidity_x_train, humidity_x_test, humidity_y_train, humidity_y_test = train_test_split(humidity_x, humidity_y,  \n",
    "                                                                        test_size = 0.1, shuffle = False)"
   ]
  },
  {
   "cell_type": "code",
   "execution_count": 61,
   "id": "2a419d46",
   "metadata": {},
   "outputs": [
    {
     "name": "stdout",
     "output_type": "stream",
     "text": [
      "torch.Size([8997, 3, 2, 1])\n",
      "torch.Size([8997])\n",
      "torch.Size([1000, 3, 2, 1])\n",
      "torch.Size([1000])\n"
     ]
    }
   ],
   "source": [
    "print(humidity_x_train.shape)\n",
    "print(humidity_y_train.shape)\n",
    "print(humidity_x_test.shape)\n",
    "print(humidity_y_test.shape)"
   ]
  },
  {
   "cell_type": "code",
   "execution_count": 62,
   "id": "a8f85dbc",
   "metadata": {},
   "outputs": [],
   "source": [
    "class CNN(nn.Module):\n",
    "    def __init__(self):\n",
    "        super(CNN, self).__init__()\n",
    "        self.conv1 = nn.Conv2d(3, 32, (2,1))  # 3 input channels, 32 output channels, 1x2 kernel\n",
    "        self.fc1 = nn.Linear(32, 64)\n",
    "        self.fc2 = nn.Linear(64, 128)\n",
    "        self.fc3 = nn.Linear(128, 64)\n",
    "        self.fc4 = nn.Linear(64, 32)\n",
    "        self.fc5 = nn.Linear(32, 1)\n",
    "        self.relu = nn.ReLU()\n",
    "\n",
    "    def forward(self, x):\n",
    "        x = torch.relu(self.conv1(x))\n",
    "        x = x.view(x.size()[0], -1)# flatten the output of the convolutional layers\n",
    "        x = self.fc1(x)\n",
    "        x = self.relu(x)\n",
    "        x = self.fc2(x)\n",
    "        x = self.relu(x)\n",
    "        x = self.fc3(x)\n",
    "        x = self.relu(x)\n",
    "        x = self.fc4(x)\n",
    "        x = self.relu(x)\n",
    "        x = self.fc5(x)\n",
    "        return x"
   ]
  },
  {
   "cell_type": "code",
   "execution_count": 63,
   "id": "87b58a50",
   "metadata": {},
   "outputs": [],
   "source": [
    "# 定义训练函数\n",
    "def train(model, device, train_loader, optimizer, criterion):\n",
    "    model.train()\n",
    "    for data, target in train_loader:\n",
    "        data, target = data.to(device), target.to(device)\n",
    "        optimizer.zero_grad()\n",
    "        output = model(data).double()\n",
    "        loss = criterion(output, target)\n",
    "        loss.backward()\n",
    "        optimizer.step()\n",
    "\n",
    "# 定义测试函数\n",
    "def test(model, device, test_loader, criterion):\n",
    "    model.eval()\n",
    "    test_loss = 0\n",
    "    with torch.no_grad():\n",
    "        for data, target in test_loader:\n",
    "            data, target = data.to(device), target.to(device)\n",
    "            output = model(data)\n",
    "            test_loss += criterion(output, target).item()\n",
    "    test_loss /= len(test_loader.dataset)\n",
    "    return test_loss"
   ]
  },
  {
   "cell_type": "code",
   "execution_count": 64,
   "id": "f2ead18b",
   "metadata": {},
   "outputs": [
    {
     "name": "stderr",
     "output_type": "stream",
     "text": [
      "/Users/jiaxingzhang/env/lib/python3.9/site-packages/torch/nn/modules/loss.py:536: UserWarning: Using a target size (torch.Size([32])) that is different to the input size (torch.Size([32, 1])). This will likely lead to incorrect results due to broadcasting. Please ensure they have the same size.\n",
      "  return F.mse_loss(input, target, reduction=self.reduction)\n",
      "/Users/jiaxingzhang/env/lib/python3.9/site-packages/torch/nn/modules/loss.py:536: UserWarning: Using a target size (torch.Size([5])) that is different to the input size (torch.Size([5, 1])). This will likely lead to incorrect results due to broadcasting. Please ensure they have the same size.\n",
      "  return F.mse_loss(input, target, reduction=self.reduction)\n",
      "/Users/jiaxingzhang/env/lib/python3.9/site-packages/torch/nn/modules/loss.py:536: UserWarning: Using a target size (torch.Size([8])) that is different to the input size (torch.Size([8, 1])). This will likely lead to incorrect results due to broadcasting. Please ensure they have the same size.\n",
      "  return F.mse_loss(input, target, reduction=self.reduction)\n"
     ]
    },
    {
     "name": "stdout",
     "output_type": "stream",
     "text": [
      "Epoch 1, Test Loss: 0.5770\n",
      "best model saved\n",
      "Epoch 2, Test Loss: 0.6158\n",
      "Epoch 3, Test Loss: 0.6115\n",
      "Epoch 4, Test Loss: 38.9662\n",
      "Epoch 5, Test Loss: 0.3487\n",
      "best model saved\n",
      "Epoch 6, Test Loss: 7.0407\n",
      "Epoch 7, Test Loss: 0.8893\n",
      "Epoch 8, Test Loss: 0.7007\n",
      "Epoch 9, Test Loss: 0.5777\n",
      "Epoch 10, Test Loss: 8.9561\n",
      "Epoch 11, Test Loss: 1.9885\n",
      "Epoch 12, Test Loss: 1.6261\n",
      "Epoch 13, Test Loss: 1.5128\n",
      "Epoch 14, Test Loss: 1.4259\n",
      "Epoch 15, Test Loss: 1.3494\n",
      "Epoch 16, Test Loss: 1.2853\n",
      "Epoch 17, Test Loss: 1.2864\n",
      "Epoch 18, Test Loss: 1.2576\n",
      "Epoch 19, Test Loss: 1.2137\n",
      "Epoch 20, Test Loss: 1.1686\n",
      "Epoch 21, Test Loss: 1.1233\n",
      "Epoch 22, Test Loss: 1.0351\n",
      "Epoch 23, Test Loss: 1.0314\n",
      "Epoch 24, Test Loss: 1.7084\n",
      "Epoch 25, Test Loss: 0.8875\n",
      "Epoch 26, Test Loss: 0.9227\n",
      "Epoch 27, Test Loss: 0.9136\n",
      "Epoch 28, Test Loss: 0.9011\n",
      "Epoch 29, Test Loss: 0.8944\n",
      "Epoch 30, Test Loss: 0.8792\n",
      "Epoch 31, Test Loss: 0.8904\n",
      "Epoch 32, Test Loss: 0.8557\n",
      "Epoch 33, Test Loss: 0.8409\n",
      "Epoch 34, Test Loss: 0.8221\n",
      "Epoch 35, Test Loss: 0.8030\n",
      "Epoch 36, Test Loss: 0.3322\n",
      "best model saved\n",
      "Epoch 37, Test Loss: 0.7399\n",
      "Epoch 38, Test Loss: 0.7437\n",
      "Epoch 39, Test Loss: 0.7346\n",
      "Epoch 40, Test Loss: 0.7183\n",
      "Epoch 41, Test Loss: 0.7025\n",
      "Epoch 42, Test Loss: 0.6961\n",
      "Epoch 43, Test Loss: 0.6835\n",
      "Epoch 44, Test Loss: 0.6598\n",
      "Epoch 45, Test Loss: 0.6639\n",
      "Epoch 46, Test Loss: 0.6578\n",
      "Epoch 47, Test Loss: 0.6405\n",
      "Epoch 48, Test Loss: 0.6455\n",
      "Epoch 49, Test Loss: 0.6456\n",
      "Epoch 50, Test Loss: 0.6543\n"
     ]
    }
   ],
   "source": [
    "if __name__ == '__main__':\n",
    "    \n",
    "    x_train = humidity_x_train\n",
    "    y_train = humidity_y_train\n",
    "    train_data = TensorDataset(x_train, y_train)\n",
    "    train_loader = DataLoader(train_data, batch_size=32, shuffle=False)\n",
    "    \n",
    "    x_test = humidity_x_test\n",
    "    y_test = humidity_y_test\n",
    "    test_data = TensorDataset(x_test, y_test)\n",
    "    test_loader = DataLoader(test_data, batch_size=32, shuffle=False)\n",
    "    \n",
    "    \n",
    "    device = torch.device('cuda' if torch.cuda.is_available() else 'cpu')\n",
    "    model = CNN().to(device)\n",
    "    optimizer = optim.Adam(model.parameters(), lr=0.01)\n",
    "    criterion = nn.MSELoss()\n",
    "    \n",
    "    \n",
    "    epochs = 50\n",
    "    best_loss = 10000\n",
    "    for epoch in range(epochs):\n",
    "        train(model, device, train_loader, optimizer, criterion)\n",
    "        test_loss = test(model, device, test_loader, criterion)\n",
    "\n",
    "        print('Epoch {}, Test Loss: {:.4f}'.format(epoch+1, test_loss))\n",
    "        if best_loss > test_loss:\n",
    "            best_loss = test_loss\n",
    "            torch.save(model,\"CNN.pt\")\n",
    "            print(\"best model saved\")\n",
    "\n"
   ]
  },
  {
   "cell_type": "code",
   "execution_count": 65,
   "id": "37efbef7",
   "metadata": {},
   "outputs": [
    {
     "data": {
      "text/plain": [
       "torch.Size([100, 3, 2, 1])"
      ]
     },
     "execution_count": 65,
     "metadata": {},
     "output_type": "execute_result"
    }
   ],
   "source": [
    "test = humidity_x_test[0:100,:,:,:]\n",
    "test.shape"
   ]
  },
  {
   "cell_type": "code",
   "execution_count": 66,
   "id": "a6882fa5",
   "metadata": {},
   "outputs": [],
   "source": [
    "predictor = torch.load(\"CNN.pt\")"
   ]
  },
  {
   "cell_type": "code",
   "execution_count": 67,
   "id": "7da688f2",
   "metadata": {},
   "outputs": [],
   "source": [
    "result = np.zeros([100])\n",
    "result = predictor(test).detach().numpy()"
   ]
  },
  {
   "cell_type": "code",
   "execution_count": 68,
   "id": "861381fc",
   "metadata": {},
   "outputs": [
    {
     "data": {
      "text/plain": [
       "numpy.ndarray"
      ]
     },
     "execution_count": 68,
     "metadata": {},
     "output_type": "execute_result"
    }
   ],
   "source": [
    "type(result)"
   ]
  },
  {
   "cell_type": "code",
   "execution_count": 69,
   "id": "a2a07f67",
   "metadata": {},
   "outputs": [
    {
     "name": "stdout",
     "output_type": "stream",
     "text": [
      "<class 'numpy.ndarray'>\n"
     ]
    },
    {
     "data": {
      "text/plain": [
       "[<matplotlib.lines.Line2D at 0x28b441d30>]"
      ]
     },
     "execution_count": 69,
     "metadata": {},
     "output_type": "execute_result"
    },
    {
     "data": {
      "image/png": "[encoded data removed]",
      "text/plain": [
       "<Figure size 640x480 with 1 Axes>"
      ]
     },
     "metadata": {},
     "output_type": "display_data"
    }
   ],
   "source": [
    "x = np.arange(0,100)\n",
    "print(type(x))\n",
    "plt.plot(x,humidity_y_test[0:100])\n",
    "plt.plot(x,result)"
   ]
  },
  {
   "cell_type": "code",
   "execution_count": 70,
   "id": "8280c532",
   "metadata": {},
   "outputs": [
    {
     "name": "stdout",
     "output_type": "stream",
     "text": [
      "tensor([ 3.4810,  1.2682, -4.2934, -0.6097, -2.0070, -5.8677,  1.2745,  1.0862,\n",
      "        -1.5932,  1.2376, -1.8844, -2.0254, -1.0961, -2.0858, -4.7303, -1.5500,\n",
      "         0.6036, -1.3675, -4.9441,  0.9769,  0.8703, -0.3203,  3.4381, -1.3149,\n",
      "        -1.0193, -2.7341, -1.0415, -3.7500, -2.3273, -4.5835, -1.6602, -2.8179,\n",
      "         0.1573, -2.9552, -0.8420, -1.3214, -2.4413,  0.6143, -4.1241, -2.1375,\n",
      "         0.0520,  0.2313,  2.5992,  0.8358, -3.5354, -1.3548, -1.5402, -2.7969,\n",
      "        -1.8029,  0.7184, -1.1846,  0.0608, -0.7844, -2.1239, -3.0910,  1.1795,\n",
      "        -1.9301, -1.4462,  0.2562, -1.7301, -4.4728, -4.9228, -5.9894, -2.2402,\n",
      "        -2.0431, -0.0744, -3.4609, -1.7069, -3.8729,  2.8609, -0.4224, -3.0704,\n",
      "        -0.8762, -1.1941, -1.6350,  0.2696, -3.1149, -3.5540, -3.9591,  2.8370,\n",
      "        -0.5683, -1.3159, -0.8711, -1.1390, -3.4456, -1.7316,  0.3368, -2.5744,\n",
      "        -4.4041, -1.7947, -0.0824, -0.9889,  0.3267, -4.5261,  0.2028, -1.3991,\n",
      "        -0.7524, -1.4868, -0.8273, -1.3186], dtype=torch.float64)\n"
     ]
    }
   ],
   "source": [
    "difference = humidity_y_test[0:100] - result[:,0]\n",
    "print(difference)"
   ]
  }
 ],
 "metadata": {
  "kernelspec": {
   "display_name": "Python 3 (ipykernel)",
   "language": "python",
   "name": "python3"
  },
  "language_info": {
   "codemirror_mode": {
    "name": "ipython",
    "version": 3
   },
   "file_extension": ".py",
   "mimetype": "text/x-python",
   "name": "python",
   "nbconvert_exporter": "python",
   "pygments_lexer": "ipython3",
   "version": "3.9.6"
  }
 },
 "nbformat": 4,
 "nbformat_minor": 5
}
